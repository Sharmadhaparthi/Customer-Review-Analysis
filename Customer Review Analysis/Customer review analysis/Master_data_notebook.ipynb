{
 "cells": [
  {
   "cell_type": "code",
   "execution_count": 1,
   "id": "4c362d7c",
   "metadata": {},
   "outputs": [],
   "source": [
    "import numpy as np\n",
    "import pandas as pd"
   ]
  },
  {
   "cell_type": "code",
   "execution_count": 26,
   "id": "2b056f9e",
   "metadata": {},
   "outputs": [],
   "source": [
    "path = 'C:\\\\Users\\\\lokes\\\\OneDrive\\\\Desktop\\\\ADM\\\\NLP Data'"
   ]
  },
  {
   "cell_type": "code",
   "execution_count": 27,
   "id": "6e215ab6",
   "metadata": {},
   "outputs": [],
   "source": [
    "df1 = pd.read_csv(f'{path}\\\\Group1.csv')"
   ]
  },
  {
   "cell_type": "code",
   "execution_count": 28,
   "id": "44129140",
   "metadata": {},
   "outputs": [
    {
     "data": {
      "text/html": [
       "<div>\n",
       "<style scoped>\n",
       "    .dataframe tbody tr th:only-of-type {\n",
       "        vertical-align: middle;\n",
       "    }\n",
       "\n",
       "    .dataframe tbody tr th {\n",
       "        vertical-align: top;\n",
       "    }\n",
       "\n",
       "    .dataframe thead th {\n",
       "        text-align: right;\n",
       "    }\n",
       "</style>\n",
       "<table border=\"1\" class=\"dataframe\">\n",
       "  <thead>\n",
       "    <tr style=\"text-align: right;\">\n",
       "      <th></th>\n",
       "      <th>Review</th>\n",
       "      <th>Label</th>\n",
       "    </tr>\n",
       "  </thead>\n",
       "  <tbody>\n",
       "    <tr>\n",
       "      <th>0</th>\n",
       "      <td>The staff is very attentive to all needs. From...</td>\n",
       "      <td>R</td>\n",
       "    </tr>\n",
       "    <tr>\n",
       "      <th>1</th>\n",
       "      <td>Best hotel in Vancouver for price range. Most ...</td>\n",
       "      <td>R</td>\n",
       "    </tr>\n",
       "    <tr>\n",
       "      <th>2</th>\n",
       "      <td>I cant say enough good things about this estab...</td>\n",
       "      <td>R</td>\n",
       "    </tr>\n",
       "    <tr>\n",
       "      <th>3</th>\n",
       "      <td>Best hotel we’ve ever been to the staff are so...</td>\n",
       "      <td>R</td>\n",
       "    </tr>\n",
       "    <tr>\n",
       "      <th>4</th>\n",
       "      <td>It is a nice hotel, but nothing special. I do ...</td>\n",
       "      <td>R</td>\n",
       "    </tr>\n",
       "  </tbody>\n",
       "</table>\n",
       "</div>"
      ],
      "text/plain": [
       "                                              Review Label\n",
       "0  The staff is very attentive to all needs. From...     R\n",
       "1  Best hotel in Vancouver for price range. Most ...     R\n",
       "2  I cant say enough good things about this estab...     R\n",
       "3  Best hotel we’ve ever been to the staff are so...     R\n",
       "4  It is a nice hotel, but nothing special. I do ...     R"
      ]
     },
     "execution_count": 28,
     "metadata": {},
     "output_type": "execute_result"
    }
   ],
   "source": [
    "df1.head(5)"
   ]
  },
  {
   "cell_type": "code",
   "execution_count": 29,
   "id": "80573a3a",
   "metadata": {},
   "outputs": [],
   "source": [
    "df2 = pd.read_csv(f'{path}\\\\Group2.csv')"
   ]
  },
  {
   "cell_type": "code",
   "execution_count": 30,
   "id": "c7ca2077",
   "metadata": {},
   "outputs": [],
   "source": [
    "df3 = pd.read_csv(f'{path}\\\\Group3.csv')"
   ]
  },
  {
   "cell_type": "code",
   "execution_count": 31,
   "id": "aebf9020",
   "metadata": {},
   "outputs": [],
   "source": [
    "df4 = pd.read_csv(f'{path}\\\\Group4.csv')"
   ]
  },
  {
   "cell_type": "code",
   "execution_count": 32,
   "id": "6d7e0635",
   "metadata": {},
   "outputs": [],
   "source": [
    "df5 = pd.read_csv(f'{path}\\\\Group5.csv')"
   ]
  },
  {
   "cell_type": "code",
   "execution_count": 33,
   "id": "fbfd5038",
   "metadata": {},
   "outputs": [],
   "source": [
    "df6 = pd.read_csv(f'{path}\\\\Group6.csv')"
   ]
  },
  {
   "cell_type": "code",
   "execution_count": 34,
   "id": "9f51c522",
   "metadata": {},
   "outputs": [],
   "source": [
    "df7 = pd.read_csv(f'{path}\\\\Group7.csv')"
   ]
  },
  {
   "cell_type": "code",
   "execution_count": 35,
   "id": "21a678aa",
   "metadata": {},
   "outputs": [],
   "source": [
    "df9 = pd.read_csv(f'{path}\\\\Group9.csv')"
   ]
  },
  {
   "cell_type": "code",
   "execution_count": 36,
   "id": "aa1baccc",
   "metadata": {},
   "outputs": [
    {
     "name": "stdout",
     "output_type": "stream",
     "text": [
      "<class 'pandas.core.frame.DataFrame'>\n",
      "RangeIndex: 70 entries, 0 to 69\n",
      "Data columns (total 2 columns):\n",
      " #   Column  Non-Null Count  Dtype \n",
      "---  ------  --------------  ----- \n",
      " 0   Review  70 non-null     object\n",
      " 1   Label   70 non-null     object\n",
      "dtypes: object(2)\n",
      "memory usage: 1.2+ KB\n"
     ]
    }
   ],
   "source": [
    "df1.info()"
   ]
  },
  {
   "cell_type": "code",
   "execution_count": 57,
   "id": "2221441a",
   "metadata": {},
   "outputs": [],
   "source": [
    "df12 = df1.append(df2)"
   ]
  },
  {
   "cell_type": "code",
   "execution_count": 58,
   "id": "06111e43",
   "metadata": {},
   "outputs": [
    {
     "data": {
      "text/plain": [
       "(95, 2)"
      ]
     },
     "execution_count": 58,
     "metadata": {},
     "output_type": "execute_result"
    }
   ],
   "source": [
    "df12.shape"
   ]
  },
  {
   "cell_type": "code",
   "execution_count": 59,
   "id": "208d1c91",
   "metadata": {},
   "outputs": [
    {
     "data": {
      "text/html": [
       "<div>\n",
       "<style scoped>\n",
       "    .dataframe tbody tr th:only-of-type {\n",
       "        vertical-align: middle;\n",
       "    }\n",
       "\n",
       "    .dataframe tbody tr th {\n",
       "        vertical-align: top;\n",
       "    }\n",
       "\n",
       "    .dataframe thead th {\n",
       "        text-align: right;\n",
       "    }\n",
       "</style>\n",
       "<table border=\"1\" class=\"dataframe\">\n",
       "  <thead>\n",
       "    <tr style=\"text-align: right;\">\n",
       "      <th></th>\n",
       "      <th>Review</th>\n",
       "      <th>Label</th>\n",
       "    </tr>\n",
       "  </thead>\n",
       "  <tbody>\n",
       "    <tr>\n",
       "      <th>15</th>\n",
       "      <td>World of Books did an oustanding job. The book...</td>\n",
       "      <td>R</td>\n",
       "    </tr>\n",
       "    <tr>\n",
       "      <th>16</th>\n",
       "      <td>Terrible quality for a high priced item. Took ...</td>\n",
       "      <td>R</td>\n",
       "    </tr>\n",
       "    <tr>\n",
       "      <th>17</th>\n",
       "      <td>Very pleased with our settees. Very helpful al...</td>\n",
       "      <td>R</td>\n",
       "    </tr>\n",
       "    <tr>\n",
       "      <th>18</th>\n",
       "      <td>This is a great and best website to use. I am ...</td>\n",
       "      <td>R</td>\n",
       "    </tr>\n",
       "    <tr>\n",
       "      <th>19</th>\n",
       "      <td>Lovely door knobs. Beautifully wrapped and spe...</td>\n",
       "      <td>R</td>\n",
       "    </tr>\n",
       "    <tr>\n",
       "      <th>20</th>\n",
       "      <td>The product was great, the quality was good, f...</td>\n",
       "      <td>F</td>\n",
       "    </tr>\n",
       "    <tr>\n",
       "      <th>21</th>\n",
       "      <td>Little bit small and long</td>\n",
       "      <td>F</td>\n",
       "    </tr>\n",
       "    <tr>\n",
       "      <th>22</th>\n",
       "      <td>I love this top. I am obssesed with the colour...</td>\n",
       "      <td>F</td>\n",
       "    </tr>\n",
       "    <tr>\n",
       "      <th>23</th>\n",
       "      <td>Ordered both colours, I love them</td>\n",
       "      <td>F</td>\n",
       "    </tr>\n",
       "    <tr>\n",
       "      <th>24</th>\n",
       "      <td>l Love this beanie so much, it sags just right...</td>\n",
       "      <td>F</td>\n",
       "    </tr>\n",
       "  </tbody>\n",
       "</table>\n",
       "</div>"
      ],
      "text/plain": [
       "                                               Review Label\n",
       "15  World of Books did an oustanding job. The book...     R\n",
       "16  Terrible quality for a high priced item. Took ...     R\n",
       "17  Very pleased with our settees. Very helpful al...     R\n",
       "18  This is a great and best website to use. I am ...     R\n",
       "19  Lovely door knobs. Beautifully wrapped and spe...     R\n",
       "20  The product was great, the quality was good, f...     F\n",
       "21                          Little bit small and long     F\n",
       "22  I love this top. I am obssesed with the colour...     F\n",
       "23                  Ordered both colours, I love them     F\n",
       "24  l Love this beanie so much, it sags just right...     F"
      ]
     },
     "execution_count": 59,
     "metadata": {},
     "output_type": "execute_result"
    }
   ],
   "source": [
    "df12.tail(10)"
   ]
  },
  {
   "cell_type": "code",
   "execution_count": 60,
   "id": "60e42016",
   "metadata": {},
   "outputs": [],
   "source": [
    "df13 = df12.append(df3)"
   ]
  },
  {
   "cell_type": "code",
   "execution_count": 61,
   "id": "a64ccbfd",
   "metadata": {},
   "outputs": [
    {
     "data": {
      "text/plain": [
       "(182, 2)"
      ]
     },
     "execution_count": 61,
     "metadata": {},
     "output_type": "execute_result"
    }
   ],
   "source": [
    "df13.shape"
   ]
  },
  {
   "cell_type": "code",
   "execution_count": 62,
   "id": "a031d18e",
   "metadata": {},
   "outputs": [],
   "source": [
    "df14 = df13.append(df4)"
   ]
  },
  {
   "cell_type": "code",
   "execution_count": 63,
   "id": "cf5e6461",
   "metadata": {},
   "outputs": [
    {
     "data": {
      "text/plain": [
       "(196, 2)"
      ]
     },
     "execution_count": 63,
     "metadata": {},
     "output_type": "execute_result"
    }
   ],
   "source": [
    "df14.shape"
   ]
  },
  {
   "cell_type": "code",
   "execution_count": 64,
   "id": "d79bb36d",
   "metadata": {},
   "outputs": [],
   "source": [
    "df15 = df14.append(df5)"
   ]
  },
  {
   "cell_type": "code",
   "execution_count": 65,
   "id": "a27de80b",
   "metadata": {},
   "outputs": [
    {
     "data": {
      "text/plain": [
       "(223, 2)"
      ]
     },
     "execution_count": 65,
     "metadata": {},
     "output_type": "execute_result"
    }
   ],
   "source": [
    "df15.shape"
   ]
  },
  {
   "cell_type": "code",
   "execution_count": 69,
   "id": "171056ed",
   "metadata": {},
   "outputs": [],
   "source": [
    "df17 = df15.append(df7)"
   ]
  },
  {
   "cell_type": "code",
   "execution_count": 70,
   "id": "1878bec9",
   "metadata": {},
   "outputs": [
    {
     "data": {
      "text/plain": [
       "(278, 2)"
      ]
     },
     "execution_count": 70,
     "metadata": {},
     "output_type": "execute_result"
    }
   ],
   "source": [
    "df17.shape"
   ]
  },
  {
   "cell_type": "code",
   "execution_count": 71,
   "id": "5d548373",
   "metadata": {},
   "outputs": [],
   "source": [
    "df19 = df17.append(df9)"
   ]
  },
  {
   "cell_type": "code",
   "execution_count": 72,
   "id": "1971ee00",
   "metadata": {},
   "outputs": [
    {
     "data": {
      "text/plain": [
       "(349, 2)"
      ]
     },
     "execution_count": 72,
     "metadata": {},
     "output_type": "execute_result"
    }
   ],
   "source": [
    "df19.shape"
   ]
  },
  {
   "cell_type": "code",
   "execution_count": 77,
   "id": "33015d50",
   "metadata": {},
   "outputs": [
    {
     "data": {
      "text/html": [
       "<div>\n",
       "<style scoped>\n",
       "    .dataframe tbody tr th:only-of-type {\n",
       "        vertical-align: middle;\n",
       "    }\n",
       "\n",
       "    .dataframe tbody tr th {\n",
       "        vertical-align: top;\n",
       "    }\n",
       "\n",
       "    .dataframe thead th {\n",
       "        text-align: right;\n",
       "    }\n",
       "</style>\n",
       "<table border=\"1\" class=\"dataframe\">\n",
       "  <thead>\n",
       "    <tr style=\"text-align: right;\">\n",
       "      <th></th>\n",
       "      <th>Review</th>\n",
       "      <th>Label</th>\n",
       "    </tr>\n",
       "  </thead>\n",
       "  <tbody>\n",
       "    <tr>\n",
       "      <th>0</th>\n",
       "      <td>The staff is very attentive to all needs. From...</td>\n",
       "      <td>R</td>\n",
       "    </tr>\n",
       "    <tr>\n",
       "      <th>1</th>\n",
       "      <td>Best hotel in Vancouver for price range. Most ...</td>\n",
       "      <td>R</td>\n",
       "    </tr>\n",
       "    <tr>\n",
       "      <th>2</th>\n",
       "      <td>I cant say enough good things about this estab...</td>\n",
       "      <td>R</td>\n",
       "    </tr>\n",
       "    <tr>\n",
       "      <th>3</th>\n",
       "      <td>Best hotel we’ve ever been to the staff are so...</td>\n",
       "      <td>R</td>\n",
       "    </tr>\n",
       "    <tr>\n",
       "      <th>4</th>\n",
       "      <td>It is a nice hotel, but nothing special. I do ...</td>\n",
       "      <td>R</td>\n",
       "    </tr>\n",
       "  </tbody>\n",
       "</table>\n",
       "</div>"
      ],
      "text/plain": [
       "                                              Review Label\n",
       "0  The staff is very attentive to all needs. From...     R\n",
       "1  Best hotel in Vancouver for price range. Most ...     R\n",
       "2  I cant say enough good things about this estab...     R\n",
       "3  Best hotel we’ve ever been to the staff are so...     R\n",
       "4  It is a nice hotel, but nothing special. I do ...     R"
      ]
     },
     "execution_count": 77,
     "metadata": {},
     "output_type": "execute_result"
    }
   ],
   "source": [
    "df19.head(5)"
   ]
  },
  {
   "cell_type": "code",
   "execution_count": 78,
   "id": "9891e24a",
   "metadata": {},
   "outputs": [],
   "source": [
    "df_final = df19.append(df6)"
   ]
  },
  {
   "cell_type": "code",
   "execution_count": 79,
   "id": "5ce76008",
   "metadata": {},
   "outputs": [
    {
     "data": {
      "text/plain": [
       "(408, 3)"
      ]
     },
     "execution_count": 79,
     "metadata": {},
     "output_type": "execute_result"
    }
   ],
   "source": [
    "df_final.shape\n"
   ]
  },
  {
   "cell_type": "code",
   "execution_count": 92,
   "id": "812592e5",
   "metadata": {},
   "outputs": [
    {
     "data": {
      "text/html": [
       "<div>\n",
       "<style scoped>\n",
       "    .dataframe tbody tr th:only-of-type {\n",
       "        vertical-align: middle;\n",
       "    }\n",
       "\n",
       "    .dataframe tbody tr th {\n",
       "        vertical-align: top;\n",
       "    }\n",
       "\n",
       "    .dataframe thead th {\n",
       "        text-align: right;\n",
       "    }\n",
       "</style>\n",
       "<table border=\"1\" class=\"dataframe\">\n",
       "  <thead>\n",
       "    <tr style=\"text-align: right;\">\n",
       "      <th></th>\n",
       "      <th>Review</th>\n",
       "      <th>Label</th>\n",
       "      <th>Review</th>\n",
       "    </tr>\n",
       "  </thead>\n",
       "  <tbody>\n",
       "    <tr>\n",
       "      <th>54</th>\n",
       "      <td>NaN</td>\n",
       "      <td>F</td>\n",
       "      <td>We were very pleasantly accommodated. Location...</td>\n",
       "    </tr>\n",
       "    <tr>\n",
       "      <th>55</th>\n",
       "      <td>NaN</td>\n",
       "      <td>F</td>\n",
       "      <td>The room was very clean and spacious. Easy to ...</td>\n",
       "    </tr>\n",
       "    <tr>\n",
       "      <th>56</th>\n",
       "      <td>NaN</td>\n",
       "      <td>F</td>\n",
       "      <td>Super location, great staff and very nice faci...</td>\n",
       "    </tr>\n",
       "    <tr>\n",
       "      <th>57</th>\n",
       "      <td>NaN</td>\n",
       "      <td>F</td>\n",
       "      <td>What a wonderful stay! I had to make a last mi...</td>\n",
       "    </tr>\n",
       "    <tr>\n",
       "      <th>58</th>\n",
       "      <td>NaN</td>\n",
       "      <td>F</td>\n",
       "      <td>New hotel, very nice. Walk to restaurants. Enj...</td>\n",
       "    </tr>\n",
       "  </tbody>\n",
       "</table>\n",
       "</div>"
      ],
      "text/plain": [
       "   Review Label                                            Review \n",
       "54    NaN     F  We were very pleasantly accommodated. Location...\n",
       "55    NaN     F  The room was very clean and spacious. Easy to ...\n",
       "56    NaN     F  Super location, great staff and very nice faci...\n",
       "57    NaN     F  What a wonderful stay! I had to make a last mi...\n",
       "58    NaN     F  New hotel, very nice. Walk to restaurants. Enj..."
      ]
     },
     "execution_count": 92,
     "metadata": {},
     "output_type": "execute_result"
    }
   ],
   "source": [
    "df_final.tail(5)"
   ]
  },
  {
   "cell_type": "code",
   "execution_count": 94,
   "id": "9033f36a",
   "metadata": {},
   "outputs": [],
   "source": [
    "df_final.to_csv (r'C:\\\\Users\\\\lokes\\\\OneDrive\\\\Desktop\\\\ADM\\\\NLP Data\\\\export_dataframe.csv', index = None, header=True) "
   ]
  },
  {
   "cell_type": "code",
   "execution_count": null,
   "id": "93bb246e",
   "metadata": {},
   "outputs": [],
   "source": []
  }
 ],
 "metadata": {
  "kernelspec": {
   "display_name": "Python 3",
   "language": "python",
   "name": "python3"
  },
  "language_info": {
   "codemirror_mode": {
    "name": "ipython",
    "version": 3
   },
   "file_extension": ".py",
   "mimetype": "text/x-python",
   "name": "python",
   "nbconvert_exporter": "python",
   "pygments_lexer": "ipython3",
   "version": "3.8.8"
  }
 },
 "nbformat": 4,
 "nbformat_minor": 5
}
