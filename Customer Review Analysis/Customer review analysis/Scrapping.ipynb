{
 "cells": [
  {
   "cell_type": "code",
   "execution_count": 16,
   "metadata": {
    "id": "zWrCbiO4RNcb"
   },
   "outputs": [],
   "source": [
    "from urllib.request import urlopen\n",
    "from bs4 import BeautifulSoup\n",
    "import re\n",
    "import pandas as pd\n",
    "import requests\n",
    "import urllib\n",
    "import json"
   ]
  },
  {
   "cell_type": "code",
   "execution_count": 20,
   "metadata": {
    "id": "I_9rH2haRUsB"
   },
   "outputs": [],
   "source": [
    "page = urllib.request.urlopen(\"https://www.trustpilot.com/review/betterwayhealth.com\")\n",
    "page_html=page.read()\n",
    "html_soup=BeautifulSoup(page_html,'html.parser')\n",
    "abc=str(html_soup)\n",
    "start='\"headline\":'\n",
    "end=',\"reviewRating\"'\n",
    "answer=abc[abc.find(start)+len(start):abc.rfind(end)]\n",
    "answer='\"headline\":'+answer\n",
    "list1=answer.split(\",\")\n",
    "import csv\n",
    "list2=[]"
   ]
  },
  {
   "cell_type": "code",
   "execution_count": 21,
   "metadata": {
    "colab": {
     "base_uri": "https://localhost:8080/"
    },
    "id": "Xyi0N4a-muMY",
    "outputId": "7ae87906-7df3-49e6-a29c-a096346bdf69"
   },
   "outputs": [
    {
     "name": "stdout",
     "output_type": "stream",
     "text": [
      " headline : Auto ships works great \n",
      " reviewBody : Auto ships works great. I have it timed to arrive just when we are on the last bottle.  They have been good about working with me to set up a schedule for auto delivery. \n",
      " headline : Will always use this service \n",
      " reviewBody : Will always use this service! Great products! \n",
      " headline : A friend recommended this page to me… \n",
      " reviewBody : A friend recommended this page to me because the supplements they sell are very effective in boosting my immune system. And just as I thank my friend for telling me about this\n",
      " I also thank BetterWayHealth for the fantastic supplements that have helped me and for the kind service provided. \n",
      " headline : Very happy with products and delivery \n",
      " reviewBody : Very happy with products and delivery \n",
      " headline : Always great products and great service… \n",
      " reviewBody : Always great products and great service with Better Way Health! \n",
      " headline : Health is wealth. \n",
      " reviewBody : Health is wealth.Very good experience and totally satisfied. \n",
      " headline : Had trouble navigating website and… \n",
      " reviewBody : Had trouble navigating website and accessing discount code\n",
      " but a nice rep followed up and helped sort it out. Thanks. \n",
      " headline : Everyone is always helpful \n",
      " reviewBody : Everyone is always helpful.  I had to change  payment methods and delivery dates and it is always a pleasure to talk to them. \n",
      " headline : Have been using Better Way Health Beta… \n",
      " reviewBody : Have been using Better Way Health Beta Glucan consistently for 3 years. Love the product backed up by scientific research. Ordering is a breeze & their text notification pre-auto shipment makes it super easy if I need to amend my order. Great customer service. Also recommend the Vitamin D & Curcumin. \n",
      " headline : Excellent service \n",
      " reviewBody : Excellent service \n",
      " headline : Premium quality of supplements \n",
      " reviewBody : Premium quality of supplements. Great Shop\n",
      " would recommend this store to my friends \n",
      " headline : Easy to order and the text message from… \n",
      " reviewBody : Easy to order and the text message from Better Way Health is great way for me to monitor or adjust future ordering. \n",
      " headline : Best phone service \n",
      " reviewBody : Best phone service. They have all your info right there to help you place your next order. All representatives I've dealt with over the years\n",
      " have been very friendly. \n",
      " headline : The benefits of better health… \n",
      " reviewBody : The benefits of better health supplement is to get you in tip top shape. \n",
      " headline : Great help. \n",
      " reviewBody : I couldn’t get my phone to purchase my items\n",
      " so I ended up calling.  I got excellent help and was able to finish my order.  She was very helpful in helping me order the right items for my situation. \n",
      " headline : Trustworthy Company. \n",
      " reviewBody : This company is a must-visit for everyone on a diet who wants to try a dieting supplement. They have a trustworthy\n",
      " organic\n",
      " and non-toxic supplement\n",
      " and you may choose and choose which vitamins you need based on your health condition. \n"
     ]
    }
   ],
   "source": [
    "for i in list1:\n",
    "  if re.search(\"reviewRating\",i):\n",
    "    continue\n",
    "  if re.search(\"bestRating\",i):\n",
    "    continue\n",
    "  if re.search(\"worstRating\",i):\n",
    "    continue\n",
    "  if re.search(\"ratingValue\",i):\n",
    "    continue\n",
    "  if re.search(\"publisher\",i):\n",
    "    continue\n",
    "  if re.search(\"name\",i):\n",
    "    continue\n",
    "  if re.search(\"sameAs\",i):\n",
    "    continue\n",
    "  if re.search(\"inLanguage\",i):\n",
    "    continue\n",
    "  if re.search(\"@type\",i):\n",
    "    continue\n",
    "  if re.search(\"itemReviewed\",i):\n",
    "    continue\n",
    "  if re.search(\"image\",i):\n",
    "    continue\n",
    "  if re.search(\"name\",i):\n",
    "    continue\n",
    "  if re.search(\"url\",i):\n",
    "    continue\n",
    "  if re.search(\"datePublished\",i):\n",
    "    continue\n",
    "  else:\n",
    "    print(i.replace('\"',\" \"))\n",
    "    list2.append(i)\n",
    "\n"
   ]
  },
  {
   "cell_type": "code",
   "execution_count": 23,
   "metadata": {
    "id": "yHNGJvXEyDFr"
   },
   "outputs": [],
   "source": [
    "textfile = open(\"a_file3.txt\", \"w\")\n",
    "for element in list2:\n",
    "    textfile.write(element + \"\\n\")\n",
    "textfile.close()"
   ]
  },
  {
   "cell_type": "code",
   "execution_count": 25,
   "metadata": {},
   "outputs": [],
   "source": [
    "import pandas as pd\n",
    "\n",
    "read_file = pd.read_csv (r'D:\\Information system\\Fall 2021\\ADM\\a_file3.txt',encoding= 'unicode_escape')\n",
    "read_file.to_csv (r'D:\\Information system\\Fall 2021\\ADM\\Scrapping.csv', index=None)"
   ]
  }
 ],
 "metadata": {
  "colab": {
   "name": "Untitled7.ipynb",
   "provenance": []
  },
  "kernelspec": {
   "display_name": "Python 3",
   "language": "python",
   "name": "python3"
  },
  "language_info": {
   "codemirror_mode": {
    "name": "ipython",
    "version": 3
   },
   "file_extension": ".py",
   "mimetype": "text/x-python",
   "name": "python",
   "nbconvert_exporter": "python",
   "pygments_lexer": "ipython3",
   "version": "3.6.13"
  }
 },
 "nbformat": 4,
 "nbformat_minor": 1
}
